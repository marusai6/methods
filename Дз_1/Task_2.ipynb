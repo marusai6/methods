{
 "cells": [
  {
   "cell_type": "markdown",
   "id": "fdf1af64",
   "metadata": {},
   "source": [
    "2. Изучить список открытых API (https://www.programmableweb.com/category/all/apis). Найти среди них любое, требующее авторизацию (любого типа). Выполнить запросы к нему, пройдя авторизацию. Ответ сервера записать в файл.\n",
    "Если нет желания заморачиваться с поиском, возьмите API вконтакте (https://vk.com/dev/first_guide). Сделайте запрос, чтобы получить список всех сообществ на которые вы подписаны."
   ]
  },
  {
   "cell_type": "code",
   "execution_count": 1,
   "id": "0aac1a42",
   "metadata": {},
   "outputs": [],
   "source": [
    "import requests\n",
    "import json"
   ]
  },
  {
   "cell_type": "code",
   "execution_count": 2,
   "id": "bdf6b8ca",
   "metadata": {},
   "outputs": [],
   "source": [
    "access_token = 'vk1.a.mXHMP3moZRk0JPmqcdaTszGl68mEC-iyJQEKn16Y_Zmo6_o5RdSGkykYomBABkK-Jr2JycL-vAtgYWbelaFHkjAIPSRCQOHB6X5b3xQsm-6RPenBV-OMXG_4x4bGSBs91ufOAZmB-i_eg30xeEbjv9Wr__d3kb84efpkTJO8Sj9Xi27edGgqvxHEwztJmK60'"
   ]
  },
  {
   "cell_type": "code",
   "execution_count": 3,
   "id": "875e5bcd",
   "metadata": {},
   "outputs": [],
   "source": [
    "url = f'https://api.vk.com/method/groups.get?v=5.81&access_token={access_token}'"
   ]
  },
  {
   "cell_type": "code",
   "execution_count": 4,
   "id": "68c54f19",
   "metadata": {},
   "outputs": [],
   "source": [
    "req = requests.get(url)"
   ]
  },
  {
   "cell_type": "code",
   "execution_count": 5,
   "id": "b0393dfe",
   "metadata": {},
   "outputs": [
    {
     "name": "stdout",
     "output_type": "stream",
     "text": [
      "{'response': {'count': 33, 'items': [51766355, 55074079, 32194285, 55662720, 127428134, 26270763, 43660281, 210890769, 152899534, 99340125, 40553536, 209313086, 130953029, 137580405, 56028029, 163051926, 46466345, 31976785, 36360108, 30281, 5060205, 31549978, 55950040, 63383120, 81444619, 101888609, 108130036, 134711744, 169879582, 172243761, 186062489, 191476656, 211973362]}}\n"
     ]
    }
   ],
   "source": [
    "print(req.json())"
   ]
  },
  {
   "cell_type": "code",
   "execution_count": 6,
   "id": "636e224d",
   "metadata": {},
   "outputs": [],
   "source": [
    "with open ('req.json', 'w', encoding = 'utf-8') as f:\n",
    "    json.dump(req.json(), f)"
   ]
  },
  {
   "cell_type": "code",
   "execution_count": null,
   "id": "361c9631",
   "metadata": {},
   "outputs": [],
   "source": []
  }
 ],
 "metadata": {
  "kernelspec": {
   "display_name": "Python 3 (ipykernel)",
   "language": "python",
   "name": "python3"
  },
  "language_info": {
   "codemirror_mode": {
    "name": "ipython",
    "version": 3
   },
   "file_extension": ".py",
   "mimetype": "text/x-python",
   "name": "python",
   "nbconvert_exporter": "python",
   "pygments_lexer": "ipython3",
   "version": "3.9.12"
  }
 },
 "nbformat": 4,
 "nbformat_minor": 5
}
